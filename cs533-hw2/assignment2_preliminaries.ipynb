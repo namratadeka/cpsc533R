{
 "cells": [
  {
   "cell_type": "markdown",
   "metadata": {},
   "source": [
    "<a href=\"https://colab.research.google.com/github/namratadeka/cs533-hw2/blob/master/assignment2_preliminaries.ipynb\">\n",
    "  <img src=\"https://colab.research.google.com/assets/colab-badge.svg\" alt=\"Open In Colab\"/>\n",
    "</a>"
   ]
  },
  {
   "cell_type": "markdown",
   "metadata": {},
   "source": [
    "# Assignment 2, Preliminaries "
   ]
  },
  {
   "cell_type": "markdown",
   "metadata": {},
   "source": [
    "Turn the following expressions into tensor operations, replace any python for loop. Print the output and compare it to the sequential computation. \n",
    "\n",
    "**Hint:** Make yourself familiar with the following operations: ```torch.abs, torch.sum, torch.mean, torch.exp, torch.sqrt, torch.linspace, torch.meshgrid``` and ```tensor.permute, tensor.repeat, tensor.unsqueeze```, where tensor is a ```torch.tensor```."
   ]
  },
  {
   "cell_type": "code",
   "execution_count": 1,
   "metadata": {},
   "outputs": [],
   "source": [
    "# imports (nothing to do here)\n",
    "import torch\n",
    "import math\n",
    "import matplotlib.pyplot as plt\n",
    "prediction = torch.tensor([0.2,0.5,-1,0.9,5],dtype=torch.float)\n",
    "label      = torch.tensor([0.19,0.4,-1.1,0.9,4.99],dtype=torch.float)"
   ]
  },
  {
   "cell_type": "markdown",
   "metadata": {},
   "source": [
    "### Mean absolute error (MAE) computation"
   ]
  },
  {
   "cell_type": "code",
   "execution_count": 2,
   "metadata": {},
   "outputs": [
    {
     "name": "stdout",
     "output_type": "stream",
     "text": [
      "tensor(0.0440)\n"
     ]
    }
   ],
   "source": [
    "MAE = 0\n",
    "for i in range(len(prediction)):\n",
    "    MAE += torch.abs(prediction[i]-label[i])\n",
    "MAE /= len(prediction)\n",
    "print(MAE)"
   ]
  },
  {
   "cell_type": "code",
   "execution_count": 3,
   "metadata": {},
   "outputs": [
    {
     "name": "stdout",
     "output_type": "stream",
     "text": [
      "tensor(0.0440)\n"
     ]
    }
   ],
   "source": [
    "# tensor SOLUTION\n",
    "MAE = torch.mean(torch.abs(label - prediction))\n",
    "print(MAE)"
   ]
  },
  {
   "cell_type": "markdown",
   "metadata": {},
   "source": [
    "### Mean squared error "
   ]
  },
  {
   "cell_type": "code",
   "execution_count": 4,
   "metadata": {},
   "outputs": [
    {
     "name": "stdout",
     "output_type": "stream",
     "text": [
      "tensor(0.0040)\n"
     ]
    }
   ],
   "source": [
    "MSE = 0\n",
    "for i in range(len(prediction)):\n",
    "    MSE += (prediction[i]-label[i])**2\n",
    "MSE /= len(prediction)\n",
    "print(MSE)"
   ]
  },
  {
   "cell_type": "code",
   "execution_count": 5,
   "metadata": {},
   "outputs": [
    {
     "name": "stdout",
     "output_type": "stream",
     "text": [
      "tensor(0.0040)\n"
     ]
    }
   ],
   "source": [
    "# tensor SOLUTION\n",
    "MSE = torch.mean((prediction - label)**2)\n",
    "print(MSE)"
   ]
  },
  {
   "cell_type": "markdown",
   "metadata": {},
   "source": [
    "### 1D polynomial evaluation"
   ]
  },
  {
   "cell_type": "code",
   "execution_count": 6,
   "metadata": {},
   "outputs": [
    {
     "name": "stdout",
     "output_type": "stream",
     "text": [
      "tensor([0.1000, 0.3959, 0.7122, 1.0490, 1.4061, 1.7837, 2.1816, 2.6000])\n"
     ]
    }
   ],
   "source": [
    "a = 0.1\n",
    "b = 2\n",
    "c = 0.5\n",
    "f_of_x = []\n",
    "x_list = torch.linspace(0,1,8)\n",
    "for x in x_list:\n",
    "    f_of_x.append(a + b*x + c*(x**2))\n",
    "f_of_x = torch.FloatTensor(f_of_x)\n",
    "print(f_of_x)"
   ]
  },
  {
   "cell_type": "code",
   "execution_count": 7,
   "metadata": {},
   "outputs": [
    {
     "name": "stdout",
     "output_type": "stream",
     "text": [
      "tensor([0.1000, 0.3959, 0.7122, 1.0490, 1.4061, 1.7837, 2.1816, 2.6000])\n"
     ]
    }
   ],
   "source": [
    "# tensor SOLUTION\n",
    "f_of_x = a + b*x_list + c*(x_list**2)\n",
    "print(f_of_x)"
   ]
  },
  {
   "cell_type": "markdown",
   "metadata": {},
   "source": [
    "### 2D Gaussian function"
   ]
  },
  {
   "cell_type": "code",
   "execution_count": 8,
   "metadata": {},
   "outputs": [
    {
     "data": {
      "text/plain": [
       "<matplotlib.image.AxesImage at 0x7f60ea542e80>"
      ]
     },
     "execution_count": 8,
     "metadata": {},
     "output_type": "execute_result"
    },
    {
     "data": {
      "image/png": "[encoded data removed]",
      "text/plain": [
       "<Figure size 288x288 with 1 Axes>"
      ]
     },
     "metadata": {
      "needs_background": "light"
     },
     "output_type": "display_data"
    }
   ],
   "source": [
    "mu_x = 0.1\n",
    "mu_y = 0.5\n",
    "sigma = 0.1\n",
    "x_list = torch.linspace(0,1,8)\n",
    "y_list = torch.linspace(0,1,8)\n",
    "f_of_x = torch.FloatTensor(8,8)\n",
    "for i,x in enumerate(x_list):\n",
    "    for j,y in enumerate(y_list):\n",
    "        d = (x-mu_x)**2 + (y-mu_y)**2\n",
    "        c = 1/math.sqrt(2*math.pi)\n",
    "        f_of_x[j,i] = c*torch.exp(-d/(2*sigma**2))\n",
    "plt.matshow(f_of_x)"
   ]
  },
  {
   "cell_type": "code",
   "execution_count": 12,
   "metadata": {},
   "outputs": [
    {
     "data": {
      "text/plain": [
       "tensor([[9.0174e-07, 1.3563e-06, 2.6503e-07, 6.7286e-09, 2.2194e-11, 9.5114e-15,\n",
       "         5.2958e-19, 3.8309e-24],\n",
       "        [4.1118e-04, 6.1843e-04, 1.2085e-04, 3.0681e-06, 1.0120e-08, 4.3370e-12,\n",
       "         2.4148e-16, 1.7468e-21],\n",
       "        [2.4359e-02, 3.6637e-02, 7.1593e-03, 1.8176e-04, 5.9954e-07, 2.5693e-10,\n",
       "         1.4306e-14, 1.0349e-19],\n",
       "        [1.8749e-01, 2.8199e-01, 5.5104e-02, 1.3990e-03, 4.6146e-06, 1.9776e-09,\n",
       "         1.1011e-13, 7.9652e-19],\n",
       "        [1.8749e-01, 2.8199e-01, 5.5104e-02, 1.3990e-03, 4.6146e-06, 1.9776e-09,\n",
       "         1.1011e-13, 7.9652e-19],\n",
       "        [2.4359e-02, 3.6637e-02, 7.1593e-03, 1.8176e-04, 5.9954e-07, 2.5693e-10,\n",
       "         1.4306e-14, 1.0349e-19],\n",
       "        [4.1118e-04, 6.1843e-04, 1.2085e-04, 3.0681e-06, 1.0120e-08, 4.3370e-12,\n",
       "         2.4148e-16, 1.7468e-21],\n",
       "        [9.0174e-07, 1.3563e-06, 2.6503e-07, 6.7286e-09, 2.2194e-11, 9.5114e-15,\n",
       "         5.2958e-19, 3.8309e-24]])"
      ]
     },
     "execution_count": 12,
     "metadata": {},
     "output_type": "execute_result"
    },
    {
     "data": {
      "image/png": "[encoded data removed]",
      "text/plain": [
       "<Figure size 288x288 with 1 Axes>"
      ]
     },
     "metadata": {
      "needs_background": "light"
     },
     "output_type": "display_data"
    }
   ],
   "source": [
    "# tensor SOLUTION\n",
    "c = 1/math.sqrt(2*math.pi)\n",
    "d = ((x_list-mu_x)**2).unsqueeze(0) + ((y_list-mu_y)**2).unsqueeze(-1)\n",
    "f_of_x = c * torch.exp(-d/(2*sigma**2))\n",
    "plt.matshow(f_of_x)\n",
    "f_of_x"
   ]
  },
  {
   "cell_type": "markdown",
   "metadata": {},
   "source": [
    "Finally, use GPU computation (requires to run on a cuda capable machine with cuda installed) to turn the same operation on the GPU. Simply update your solution in the cell above. Compare the CPU and GPU output, is it the same? Up to what precision?"
   ]
  },
  {
   "cell_type": "code",
   "execution_count": 13,
   "metadata": {},
   "outputs": [
    {
     "data": {
      "text/plain": [
       "tensor([[9.0174e-07, 1.3563e-06, 2.6503e-07, 6.7286e-09, 2.2194e-11, 9.5114e-15,\n",
       "         5.2958e-19, 3.8309e-24],\n",
       "        [4.1118e-04, 6.1843e-04, 1.2085e-04, 3.0681e-06, 1.0120e-08, 4.3370e-12,\n",
       "         2.4148e-16, 1.7468e-21],\n",
       "        [2.4359e-02, 3.6637e-02, 7.1593e-03, 1.8176e-04, 5.9954e-07, 2.5693e-10,\n",
       "         1.4306e-14, 1.0349e-19],\n",
       "        [1.8749e-01, 2.8199e-01, 5.5104e-02, 1.3990e-03, 4.6146e-06, 1.9776e-09,\n",
       "         1.1011e-13, 7.9652e-19],\n",
       "        [1.8749e-01, 2.8199e-01, 5.5104e-02, 1.3990e-03, 4.6146e-06, 1.9776e-09,\n",
       "         1.1011e-13, 7.9652e-19],\n",
       "        [2.4359e-02, 3.6637e-02, 7.1593e-03, 1.8176e-04, 5.9954e-07, 2.5693e-10,\n",
       "         1.4306e-14, 1.0349e-19],\n",
       "        [4.1118e-04, 6.1843e-04, 1.2085e-04, 3.0681e-06, 1.0120e-08, 4.3370e-12,\n",
       "         2.4148e-16, 1.7468e-21],\n",
       "        [9.0174e-07, 1.3563e-06, 2.6503e-07, 6.7286e-09, 2.2194e-11, 9.5114e-15,\n",
       "         5.2958e-19, 3.8309e-24]], device='cuda:0')"
      ]
     },
     "execution_count": 13,
     "metadata": {},
     "output_type": "execute_result"
    },
    {
     "data": {
      "image/png": "[encoded data removed]",
      "text/plain": [
       "<Figure size 288x288 with 1 Axes>"
      ]
     },
     "metadata": {
      "needs_background": "light"
     },
     "output_type": "display_data"
    }
   ],
   "source": [
    "# SOLUTION\n",
    "# tensor SOLUTION\n",
    "c = 1/math.sqrt(2*math.pi)\n",
    "d = ((x_list.cuda()-mu_x)**2).unsqueeze(0) + ((y_list.cuda()-mu_y)**2).unsqueeze(-1)\n",
    "f_of_x = c * torch.exp(-d/(2*sigma**2))\n",
    "plt.matshow(f_of_x.cpu().numpy())\n",
    "f_of_x"
   ]
  },
  {
   "cell_type": "code",
   "execution_count": null,
   "metadata": {},
   "outputs": [],
   "source": []
  }
 ],
 "metadata": {
  "kernelspec": {
   "display_name": "Python 3",
   "language": "python",
   "name": "python3"
  },
  "language_info": {
   "codemirror_mode": {
    "name": "ipython",
    "version": 3
   },
   "file_extension": ".py",
   "mimetype": "text/x-python",
   "name": "python",
   "nbconvert_exporter": "python",
   "pygments_lexer": "ipython3",
   "version": "3.6.12"
  }
 },
 "nbformat": 4,
 "nbformat_minor": 4
}
