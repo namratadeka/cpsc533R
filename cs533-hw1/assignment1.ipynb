{
 "nbformat": 4,
 "nbformat_minor": 0,
 "metadata": {
  "kernelspec": {
   "display_name": "Python 3",
   "language": "python",
   "name": "python3"
  },
  "language_info": {
   "codemirror_mode": {
    "name": "ipython",
    "version": 3
   },
   "file_extension": ".py",
   "mimetype": "text/x-python",
   "name": "python",
   "nbconvert_exporter": "python",
   "pygments_lexer": "ipython3",
   "version": "3.7.3"
  },
  "colab": {
   "name": "assignment1.ipynb",
   "provenance": [],
   "include_colab_link": true
  }
 },
 "cells": [
  {
   "cell_type": "markdown",
   "metadata": {
    "id": "view-in-github",
    "colab_type": "text"
   },
   "source": [
    "<a href=\"https://colab.research.google.com/github/hooman007/cs533-hw1/blob/tinker/assignment1.ipynb\" target=\"_parent\"><img src=\"https://colab.research.google.com/assets/colab-badge.svg\" alt=\"Open In Colab\"/></a>"
   ]
  },
  {
   "cell_type": "markdown",
   "metadata": {
    "id": "Tki5liwMwsnx",
    "colab_type": "text",
    "pycharm": {
     "name": "#%% md\n"
    }
   },
   "source": [
    "# CPSC 533R Visual AI - Assignment 1"
   ]
  },
  {
   "cell_type": "code",
   "metadata": {
    "id": "MBarEUp0wsny",
    "colab_type": "code",
    "colab": {},
    "pycharm": {
     "name": "#%%\n"
    }
   },
   "source": [
    "# import native modules\n",
    "import os\n",
    "from os.path import exists\n",
    "\n",
    "# import standard PyTorch modules\n",
    "import torch\n",
    "import torch.nn as nn\n",
    "import torch.optim as optim\n",
    "\n",
    "# import torchvision module to handle image manipulation\n",
    "import torchvision\n",
    "import torchvision.transforms as transforms"
   ],
   "execution_count": 13,
   "outputs": []
  },
  {
   "cell_type": "code",
   "metadata": {
    "id": "C2XQl85gbHpm",
    "colab_type": "code",
    "colab": {
     "base_uri": "https://localhost:8080/",
     "height": 34
    },
    "outputId": "992e3b1f-72d9-45a1-e90f-d37ed33e187a"
   },
   "source": [
    "print(torch.__version__)\n",
    "device = 'cuda' if torch.cuda.is_available() else 'cpu'\n",
    "\n",
    "if not exists('./data'):\n",
    "  os.makedirs('./data')"
   ],
   "execution_count": 14,
   "outputs": [
    {
     "output_type": "stream",
     "text": [
      "1.6.0\n"
     ],
     "name": "stdout"
    }
   ]
  },
  {
   "cell_type": "code",
   "metadata": {
    "id": "FAzV7UPkwsn2",
    "colab_type": "code",
    "colab": {
     "base_uri": "https://localhost:8080/",
     "height": 187
    },
    "outputId": "e4c7a567-6833-48a1-8ad5-3bddc576acd6",
    "pycharm": {
     "name": "#%%\n"
    }
   },
   "source": [
    "# Use standard FashionMNIST dataset\n",
    "def gray_to_color(x):\n",
    "    return x.repeat(3, 1, 1)\n",
    "\n",
    "#train_set = torchvision.datasets.FashionMNIST(\n",
    "train_set = torchvision.datasets.MNIST(\n",
    "    root = './data/DatasetFashionMNIST',\n",
    "    train = True,\n",
    "    download = True,\n",
    "    transform = transforms.Compose([\n",
    "        transforms.ToTensor(),\n",
    "        gray_to_color,\n",
    "    ])\n",
    ")\n",
    "loader = torch.utils.data.DataLoader(train_set, batch_size = 8, num_workers=0)"
   ],
   "execution_count": 15,
   "outputs": [
    {
     "output_type": "stream",
     "text": [
      "Downloading http://yann.lecun.com/exdb/mnist/train-images-idx3-ubyte.gz to ./data/DatasetFashionMNIST/MNIST/raw/train-images-idx3-ubyte.gz\n"
     ],
     "name": "stdout"
    },
    {
     "output_type": "stream",
     "text": [
      "100.1%"
     ],
     "name": "stderr"
    },
    {
     "output_type": "stream",
     "text": [
      "Extracting ./data/DatasetFashionMNIST/MNIST/raw/train-images-idx3-ubyte.gz to ./data/DatasetFashionMNIST/MNIST/raw\n",
      "Downloading http://yann.lecun.com/exdb/mnist/train-labels-idx1-ubyte.gz to ./data/DatasetFashionMNIST/MNIST/raw/train-labels-idx1-ubyte.gz\n"
     ],
     "name": "stdout"
    },
    {
     "output_type": "stream",
     "text": [
      "113.5%"
     ],
     "name": "stderr"
    },
    {
     "output_type": "stream",
     "text": [
      "Extracting ./data/DatasetFashionMNIST/MNIST/raw/train-labels-idx1-ubyte.gz to ./data/DatasetFashionMNIST/MNIST/raw\n",
      "Downloading http://yann.lecun.com/exdb/mnist/t10k-images-idx3-ubyte.gz to ./data/DatasetFashionMNIST/MNIST/raw/t10k-images-idx3-ubyte.gz\n"
     ],
     "name": "stdout"
    },
    {
     "output_type": "stream",
     "text": [
      "100.4%"
     ],
     "name": "stderr"
    },
    {
     "output_type": "stream",
     "text": [
      "Extracting ./data/DatasetFashionMNIST/MNIST/raw/t10k-images-idx3-ubyte.gz to ./data/DatasetFashionMNIST/MNIST/raw\n",
      "Downloading http://yann.lecun.com/exdb/mnist/t10k-labels-idx1-ubyte.gz to ./data/DatasetFashionMNIST/MNIST/raw/t10k-labels-idx1-ubyte.gz\n"
     ],
     "name": "stdout"
    },
    {
     "output_type": "stream",
     "text": [
      "180.4%"
     ],
     "name": "stderr"
    },
    {
     "output_type": "stream",
     "text": [
      "Extracting ./data/DatasetFashionMNIST/MNIST/raw/t10k-labels-idx1-ubyte.gz to ./data/DatasetFashionMNIST/MNIST/raw\n",
      "Processing...\n",
      "Done!\n"
     ],
     "name": "stdout"
    }
   ]
  },
  {
   "cell_type": "code",
   "metadata": {
    "id": "d1acwgMGe7KO",
    "colab_type": "code",
    "colab": {
     "base_uri": "https://localhost:8080/",
     "height": 34
    },
    "outputId": "e8c28b21-f197-4329-eda4-707ee44669b2",
    "pycharm": {
     "name": "#%%\n"
    }
   },
   "source": [
    "loader.dataset.__len__()"
   ],
   "execution_count": 16,
   "outputs": [
    {
     "output_type": "execute_result",
     "data": {
      "text/plain": [
       "60000"
      ]
     },
     "metadata": {
      "tags": []
     },
     "execution_count": 16
    }
   ]
  },
  {
   "cell_type": "code",
   "metadata": {
    "id": "HUadd2zcwsn4",
    "colab_type": "code",
    "colab": {}
   },
   "source": [
    "network = torchvision.models.resnet18(num_classes=10).to(device)"
   ],
   "execution_count": 17,
   "outputs": []
  },
  {
   "cell_type": "code",
   "metadata": {
    "id": "tB8xEe1owsn7",
    "colab_type": "code",
    "colab": {
     "base_uri": "https://localhost:8080/",
     "height": 357
    },
    "outputId": "89ec0c19-9e83-42f1-a668-891b5a73ba0a",
    "pycharm": {
     "name": "#%%\n"
    }
   },
   "source": [
    "losses = []\n",
    "iterator = iter(loader)\n",
    "optimizer = optim.SGD(network.parameters(), lr=0.001)\n",
    "for i in range(200): #range(len(loader)):\n",
    "    batch = next(iterator)\n",
    "    preds = network(batch[0].to(device))\n",
    "    loss = nn.functional.cross_entropy(preds, batch[1].to(device))\n",
    "\n",
    "    optimizer.zero_grad()\n",
    "    loss.backward()\n",
    "    optimizer.step()\n",
    "    losses.append(loss.item())\n",
    "    if i%10==0:\n",
    "        print(i,losses[-1])"
   ],
   "execution_count": 18,
   "outputs": [
    {
     "output_type": "stream",
     "text": [
      "0 2.6182634830474854\n",
      "10 2.3296031951904297\n",
      "20 2.283421277999878\n",
      "30 2.0594866275787354\n",
      "40 1.46198570728302\n",
      "50 1.5286784172058105\n",
      "60 1.3991951942443848\n",
      "70 1.9203945398330688\n",
      "80 1.6595655679702759\n",
      "90 1.4454305171966553\n",
      "100 1.2296948432922363\n",
      "110 1.0041390657424927\n",
      "120 0.9647649526596069\n",
      "130 0.792611300945282\n",
      "140 1.8522603511810303\n",
      "150 0.7126403450965881\n",
      "160 1.5424578189849854\n",
      "170 1.2592737674713135\n",
      "180 0.6911829710006714\n",
      "190 0.8315699696540833\n"
     ],
     "name": "stdout"
    }
   ]
  },
  {
   "cell_type": "code",
   "metadata": {
    "id": "FLsxYpsQwsn9",
    "colab_type": "code",
    "colab": {
     "base_uri": "https://localhost:8080/",
     "height": 282
    },
    "outputId": "e85a65b4-bc2c-4d96-ed7d-e4977ff1ee7c"
   },
   "source": [
    "import matplotlib.pyplot as plt\n",
    "plt.plot(losses)"
   ],
   "execution_count": 19,
   "outputs": [
    {
     "output_type": "execute_result",
     "data": {
      "text/plain": [
       "[<matplotlib.lines.Line2D at 0x7f4aec8a2cc0>]"
      ]
     },
     "metadata": {
      "tags": []
     },
     "execution_count": 19
    },
    {
     "output_type": "display_data",
     "data": {
      "text/plain": [
       "<Figure size 432x288 with 1 Axes>"
      ],
      "image/png": "[encoded data removed]"
     },
     "metadata": {
      "tags": [],
      "needs_background": "light"
     }
    }
   ]
  },
  {
   "cell_type": "code",
   "metadata": {
    "id": "FDgN16YDnJuj",
    "colab_type": "code",
    "colab": {},
    "pycharm": {
     "name": "#%%\n"
    }
   },
   "source": [],
   "execution_count": null,
   "outputs": []
  }
 ]
}